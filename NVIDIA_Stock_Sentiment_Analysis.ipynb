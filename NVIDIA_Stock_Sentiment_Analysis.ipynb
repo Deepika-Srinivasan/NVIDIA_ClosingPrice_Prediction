{
 "cells": [
  {
   "cell_type": "code",
   "execution_count": 1,
   "metadata": {},
   "outputs": [],
   "source": [
    "#Import necessary packages\n",
    "import nltk\n",
    "from newspaper import Article\n",
    "import newspaper\n",
    "import urllib.request\n",
    "import textblob"
   ]
  },
  {
   "cell_type": "code",
   "execution_count": 44,
   "metadata": {},
   "outputs": [],
   "source": [
    "#Get the article\n",
    "#Negative article url = 'https://walletinvestor.com/stock-forecast/nvda-stock-prediction'\n",
    "url='https://investorplace.com/2020/01/nvidia-stock-might-beat-2020-market-but-wont-match-last-years-performance/'\n",
    "article = Article(url)"
   ]
  },
  {
   "cell_type": "code",
   "execution_count": 45,
   "metadata": {},
   "outputs": [
    {
     "name": "stderr",
     "output_type": "stream",
     "text": [
      "[nltk_data] Downloading package punkt to\n",
      "[nltk_data]     C:\\Users\\Deepika\\AppData\\Roaming\\nltk_data...\n",
      "[nltk_data]   Package punkt is already up-to-date!\n"
     ]
    }
   ],
   "source": [
    "#NLP Processing\n",
    "article.download()\n",
    "article.parse()\n",
    "nltk.download('punkt')\n",
    "article.nlp()"
   ]
  },
  {
   "cell_type": "code",
   "execution_count": 46,
   "metadata": {},
   "outputs": [
    {
     "data": {
      "text/plain": [
       "['Louis Navellier', 'The Investorplace Research Staff', 'Investorplace Staff']"
      ]
     },
     "execution_count": 46,
     "metadata": {},
     "output_type": "execute_result"
    }
   ],
   "source": [
    "#Get the authors\n",
    "article.authors"
   ]
  },
  {
   "cell_type": "code",
   "execution_count": 58,
   "metadata": {},
   "outputs": [
    {
     "name": "stdout",
     "output_type": "stream",
     "text": [
      "2020-01-08 13:16:37-05:00\n"
     ]
    }
   ],
   "source": [
    "#Get the publish date\n",
    "#article.publish_date\n",
    "print(article.publish_date)"
   ]
  },
  {
   "cell_type": "code",
   "execution_count": 48,
   "metadata": {},
   "outputs": [
    {
     "data": {
      "text/plain": [
       "'https://investorplace.com/wp-content/uploads/2019/07/nvda1600.jpg'"
      ]
     },
     "execution_count": 48,
     "metadata": {},
     "output_type": "execute_result"
    }
   ],
   "source": [
    "#Get the top image \n",
    "article.top_image"
   ]
  },
  {
   "cell_type": "code",
   "execution_count": 49,
   "metadata": {},
   "outputs": [
    {
     "data": {
      "text/plain": [
       "['market',\n",
       " '500',\n",
       " 'wont',\n",
       " 'stocks',\n",
       " 'nvidia',\n",
       " '2020',\n",
       " 'nvda',\n",
       " 'correction',\n",
       " 'stock',\n",
       " 'sp',\n",
       " 'beat',\n",
       " 'index',\n",
       " 'match',\n",
       " '2019']"
      ]
     },
     "execution_count": 49,
     "metadata": {},
     "output_type": "execute_result"
    }
   ],
   "source": [
    "article.keywords"
   ]
  },
  {
   "cell_type": "code",
   "execution_count": 59,
   "metadata": {},
   "outputs": [
    {
     "name": "stdout",
     "output_type": "stream",
     "text": [
      "Nvidia (NASDAQ: NVDA ) had an excellent year in 2019 with Nvidia stock gaining 74%, a considerable bounce-back from a 31% decline the year before.\n",
      "\n",
      "Source: Hairem / Shutterstock.com\n",
      "\n",
      "Just days into 2020, several InvestorPlace contributors are already categorizing NVDA stock as one of the better picks you could make over the next 12 months. Looking at the long term, I couldn’t agree more.\n",
      "\n",
      "Nvidia is one of those stocks to shove in a drawer for a decade or more, adding to your position whenever it has a correction such as the one it had in the final three months of 2018. If you’d bought 100 shares of Nvidia at the end of 2018, today you’d be sitting on a substantial gain. Given the volatility of semiconductor stocks, a significant correction is bound to happen in the not-too-distant future.\n",
      "\n",
      "The real question is when.\n",
      "\n",
      "A Correction Will Come In 2020\n",
      "\n",
      "The S&P 500, not including dividends, gained 28.9% in 2019. Since a 2008 correction, the index has generated an annual return of 20% or more on just three occasions, with 2019 the second-best performance in the past 11 years, trailing 2013 by just 70 basis points.\n",
      "\n",
      "The S&P 500 hasn’t had consecutive annual returns over 20% since 1995 to 1999, when the index delivered five straight years of 20%-plus returns during the dot-com boom. While the bull market might carry on for years, I find it hard to believe the market will deliver anywhere near the performance it did in 2019.\n",
      "\n",
      "That’s especially true when you consider that most of the gains in 2019 came from surging prices rather than increased earnings.\n",
      "\n",
      "“The S&P 500 forward P/E expanded from 14 times to 19 times and accounted for 92% of the index price gain,” Goldman Sachs analyst David Kostin wrote recently. “Looking into 2020, from a year-end 2019 starting point of 3,231, we expect the S&P 500 index will rise by 5% to 3400 and nearly all of the price gain will come from earnings growth.”\n",
      "\n",
      "Nvidia’s fiscal year falls at the end of January. Analysts expect it to earn $5.57 a share, rising to $7.23 by the end of January 2021. That’s a projected 30% growth rate over the next fiscal year. Given that the S&P index is only expected to grow earnings by 5%, I find it hard to believe that Nvidia, despite all the good things happening, will hit analysts’ estimate for 2021.\n",
      "\n",
      "If a correction comes, it will likely be a small one.\n",
      "\n",
      "Nvidia Stock Won’t Correct in 2020\n",
      "\n",
      "InvestorPlace’s Laura Hoy recently called Nvidia one of the 10 best stocks to buy in 2020.\n",
      "\n",
      "“Aside from easing concerns about China, NVDA has several growth catalysts ahead in 2020. The firm’s Tegra SoCs chips have been used in Nintendo’s (OTCMKTS: NTDOY ) Switch and Switch Lite devices, both of which have seen strong demand this holiday season. Its data center business is also thriving against competitors and poised for more growth in the New Year,” Hoy wrote Dec. 23.\n",
      "\n",
      "I recommend you take a look at Hoy’s other nine stocks she thinks will do well in 2020; there’s a nice variety of stable stocks mixed with some riskier bets. But back to Nvidia.\n",
      "\n",
      "In late November, I suggested that Nvidia stock could repeat its strong 2019 performance in 2020. However, since that article was published, it has tacked on further gains.\n",
      "\n",
      "While it’s unlikely that Nvidia will deliver 74% appreciation in 2020, I do think Hoy’s right that it ought to outperform the markets in the year ahead. By how much is the million-dollar question.\n",
      "\n",
      "As I stated in November, NVDA “will have to roughly double its net income in 2020 or its multiple will have to move higher. If its net income rises, the multiple of Nvidia stock will almost definitely increase as well.”\n",
      "\n",
      "For now, momentum is on the side of Nvidia stock. Despite the expected slowdown in the S&P 500, I expect it to deliver a moderate, if not spectacular, performance in 2020.\n",
      "\n",
      "The Bottom Line\n",
      "\n",
      "As I said in the beginning, Nvidia is the kind of stock you put in a drawer.\n",
      "\n",
      "And just as my colleague said, if you don’t already own NVDA, I would recommend waiting for a correction before buying, because at 15 times sales, it’s not cheap. If you do hold it, I’d put some cash aside to buy some more.\n",
      "\n",
      "Long-term, Nvidia’s a winner.\n",
      "\n",
      "At the time of this writing Will Ashworth did not hold a position in any of the aforementioned securities.\n"
     ]
    }
   ],
   "source": [
    "#Get the article text\n",
    "print(article.text)"
   ]
  },
  {
   "cell_type": "code",
   "execution_count": 61,
   "metadata": {},
   "outputs": [
    {
     "name": "stdout",
     "output_type": "stream",
     "text": [
      "Nvidia (NASDAQ: NVDA ) had an excellent year in 2019 with Nvidia stock gaining 74%, a considerable bounce-back from a 31% decline the year before.\n",
      "Nvidia Stock Won’t Correct in 2020InvestorPlace’s Laura Hoy recently called Nvidia one of the 10 best stocks to buy in 2020.\n",
      "In late November, I suggested that Nvidia stock could repeat its strong 2019 performance in 2020.\n",
      "If its net income rises, the multiple of Nvidia stock will almost definitely increase as well.”For now, momentum is on the side of Nvidia stock.\n",
      "Despite the expected slowdown in the S&P 500, I expect it to deliver a moderate, if not spectacular, performance in 2020.\n"
     ]
    }
   ],
   "source": [
    "text=article.summary\n",
    "print(text)"
   ]
  },
  {
   "cell_type": "code",
   "execution_count": 53,
   "metadata": {},
   "outputs": [
    {
     "name": "stdout",
     "output_type": "stream",
     "text": [
      "['Nvidia (NASDAQ: NVDA ) had an excellent year in 2019 with Nvidia stock gaining 74%, a considerable bounce-back from a 31% decline the year before.', 'Nvidia Stock Won’t Correct in 2020InvestorPlace’s Laura Hoy recently called Nvidia one of the 10 best stocks to buy in 2020.', 'In late November, I suggested that Nvidia stock could repeat its strong 2019 performance in 2020.', 'If its net income rises, the multiple of Nvidia stock will almost definitely increase as well.”For now, momentum is on the side of Nvidia stock.', 'Despite the expected slowdown in the S&P 500, I expect it to deliver a moderate, if not spectacular, performance in 2020.']\n"
     ]
    }
   ],
   "source": [
    "from nltk import tokenize\n",
    "sentence_list=tokenize.sent_tokenize(text)\n",
    "print(sentence_list)"
   ]
  },
  {
   "cell_type": "code",
   "execution_count": 62,
   "metadata": {},
   "outputs": [
    {
     "name": "stdout",
     "output_type": "stream",
     "text": [
      "Nvidia (NASDAQ: NVDA ) had an excellent year in 2019 with Nvidia stock gaining 74%, a considerable bounce-back from a 31% decline the year before.\n",
      "\n",
      "\n",
      "Nvidia Stock Won’t Correct in 2020InvestorPlace’s Laura Hoy recently called Nvidia one of the 10 best stocks to buy in 2020.\n",
      "\n",
      "\n",
      "In late November, I suggested that Nvidia stock could repeat its strong 2019 performance in 2020.\n",
      "\n",
      "\n",
      "If its net income rises, the multiple of Nvidia stock will almost definitely increase as well.”For now, momentum is on the side of Nvidia stock.\n",
      "\n",
      "\n",
      "Despite the expected slowdown in the S&P 500, I expect it to deliver a moderate, if not spectacular, performance in 2020.\n",
      "\n",
      "\n"
     ]
    }
   ],
   "source": [
    "for sentence in sentence_list:\n",
    "    print(sentence)\n",
    "    print(\"\\n\")"
   ]
  },
  {
   "cell_type": "code",
   "execution_count": 63,
   "metadata": {},
   "outputs": [
    {
     "name": "stdout",
     "output_type": "stream",
     "text": [
      "0.55\n",
      "0.5\n",
      "0.06666666666666665\n",
      "0.0\n",
      "-0.13333333333333333\n",
      "Overall sentiment Analysis is : 0.9833333333333334\n"
     ]
    }
   ],
   "source": [
    "from textblob import TextBlob \n",
    "overall_sentiment=0\n",
    "\n",
    "for text in sentence_list:\n",
    "    obj = TextBlob(text)\n",
    "    sentiment = obj.sentiment.polarity\n",
    "    print(sentiment)\n",
    "    overall_sentiment+=sentiment\n",
    "\n",
    "print(\"Overall sentiment Analysis is :\", overall_sentiment)"
   ]
  }
 ],
 "metadata": {
  "kernelspec": {
   "display_name": "Python 3",
   "language": "python",
   "name": "python3"
  },
  "language_info": {
   "codemirror_mode": {
    "name": "ipython",
    "version": 3
   },
   "file_extension": ".py",
   "mimetype": "text/x-python",
   "name": "python",
   "nbconvert_exporter": "python",
   "pygments_lexer": "ipython3",
   "version": "3.7.3"
  }
 },
 "nbformat": 4,
 "nbformat_minor": 2
}
